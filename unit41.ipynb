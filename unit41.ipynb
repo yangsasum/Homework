{
  "nbformat": 4,
  "nbformat_minor": 0,
  "metadata": {
    "colab": {
      "provenance": [],
      "authorship_tag": "ABX9TyPZvsoBdbE8kxEQshdJ2Qgq",
      "include_colab_link": true
    },
    "kernelspec": {
      "name": "python3",
      "display_name": "Python 3"
    },
    "language_info": {
      "name": "python"
    }
  },
  "cells": [
    {
      "cell_type": "markdown",
      "metadata": {
        "id": "view-in-github",
        "colab_type": "text"
      },
      "source": [
        "<a href=\"https://colab.research.google.com/github/yangsasum/Homework/blob/main/unit41.ipynb\" target=\"_parent\"><img src=\"https://colab.research.google.com/assets/colab-badge.svg\" alt=\"Open In Colab\"/></a>"
      ]
    },
    {
      "cell_type": "code",
      "execution_count": null,
      "metadata": {
        "colab": {
          "base_uri": "https://localhost:8080/"
        },
        "id": "oLc0bOx0naFI",
        "outputId": "6c9a07d8-96b5-46a2-9980-a54ca619aa3c"
      },
      "outputs": [
        {
          "output_type": "stream",
          "name": "stdout",
          "text": [
            "[0, 1, 4, 9]\n",
            "[0, 1, 4, 9]\n",
            "[11, 13, 17, 23, 31]\n"
          ]
        }
      ],
      "source": [
        "def myfunc(x):\n",
        "  return x**2\n",
        "results = map(myfunc, [0, 1, 2, 3])\n",
        "print(list(results))\n",
        "results = map(lambda x:x**2, range(4))\n",
        "print(list(results))\n",
        "X = [1, 2, 3, 4, 5]\n",
        "Y = [10, 9, 8, 7, 6]\n",
        "ret = map(lambda x,y: x**2+y, X, Y)\n",
        "print(list(ret))"
      ]
    }
  ]
}