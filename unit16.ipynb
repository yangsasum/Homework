{
  "nbformat": 4,
  "nbformat_minor": 0,
  "metadata": {
    "colab": {
      "provenance": [],
      "authorship_tag": "ABX9TyMqRGR7bLAoXwzSaK2XXwzT",
      "include_colab_link": true
    },
    "kernelspec": {
      "name": "python3",
      "display_name": "Python 3"
    },
    "language_info": {
      "name": "python"
    }
  },
  "cells": [
    {
      "cell_type": "markdown",
      "metadata": {
        "id": "view-in-github",
        "colab_type": "text"
      },
      "source": [
        "<a href=\"https://colab.research.google.com/github/yangsasum/Homework/blob/main/untitled3.ipynb\" target=\"_parent\"><img src=\"https://colab.research.google.com/assets/colab-badge.svg\" alt=\"Open In Colab\"/></a>"
      ]
    },
    {
      "cell_type": "code",
      "execution_count": null,
      "metadata": {
        "colab": {
          "base_uri": "https://localhost:8080/"
        },
        "id": "u-7u2WNb9YXV",
        "outputId": "846b0d60-1b10-4d52-fd5e-753a5b1f3051"
      },
      "outputs": [
        {
          "output_type": "stream",
          "name": "stdout",
          "text": [
            "a-b-c-d-e-f-1-2-3-4-5-('a', 97)\n",
            "('b', 98)\n",
            "('c', 99)\n",
            "0*1*2*3*4*5*6*7*8*9*1\n",
            "2\n",
            "1\n",
            "2\n"
          ]
        }
      ],
      "source": [
        "strData = 'abcdef'\n",
        "for c in strData:\n",
        "    print(c, end='-')\n",
        "listData = [1, 2, 3, 4, 5]\n",
        "for idx in listData:\n",
        "    print(idx, end='-')\n",
        "ascii_codes = {'a':97, 'b':98, 'c':99}\n",
        "for code in ascii_codes.items():\n",
        "    print(code)\n",
        "for i in range(10):\n",
        "    print(i, end='*')\n",
        "for i in [1, 2, 3, 4, 5]:\n",
        "    print(i)\n",
        "    if i < 2:\n",
        "        continue\n",
        "    else:\n",
        "        break\n",
        "for i in [1, 2, 3, 4, 5]:\n",
        "    print(i)\n",
        "    if i == 2:\n",
        "        break"
      ]
    }
  ]
}
