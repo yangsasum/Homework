{
  "nbformat": 4,
  "nbformat_minor": 0,
  "metadata": {
    "colab": {
      "provenance": [],
      "authorship_tag": "ABX9TyNqYj95dB8YXXUs/X6dlIqx",
      "include_colab_link": true
    },
    "kernelspec": {
      "name": "python3",
      "display_name": "Python 3"
    },
    "language_info": {
      "name": "python"
    }
  },
  "cells": [
    {
      "cell_type": "markdown",
      "metadata": {
        "id": "view-in-github",
        "colab_type": "text"
      },
      "source": [
        "<a href=\"https://colab.research.google.com/github/yangsasum/Homework/blob/main/unit34.ipynb\" target=\"_parent\"><img src=\"https://colab.research.google.com/assets/colab-badge.svg\" alt=\"Open In Colab\"/></a>"
      ]
    },
    {
      "cell_type": "code",
      "execution_count": null,
      "metadata": {
        "id": "o_esr4og_ITC"
      },
      "outputs": [],
      "source": [
        "iterableData1 = [1, 2, 3, 4, 5]\n",
        "iterableData2 = ('a', 'b', 'c')\n",
        "iterableData3 = 'I love python'\n",
        "iterableData6 = range(10)\n",
        "iterableData4 = {97:'a', 98: 'b'}\n",
        "iterableData5 = {'사과', '배', '오렌지'}"
      ]
    }
  ]
}