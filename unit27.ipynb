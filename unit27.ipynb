{
  "nbformat": 4,
  "nbformat_minor": 0,
  "metadata": {
    "colab": {
      "provenance": [],
      "authorship_tag": "ABX9TyP0iGKLNG8yekNV6XLciH0k",
      "include_colab_link": true
    },
    "kernelspec": {
      "name": "python3",
      "display_name": "Python 3"
    },
    "language_info": {
      "name": "python"
    }
  },
  "cells": [
    {
      "cell_type": "markdown",
      "metadata": {
        "id": "view-in-github",
        "colab_type": "text"
      },
      "source": [
        "<a href=\"https://colab.research.google.com/github/yangsasum/Homework/blob/main/unit27.ipynb\" target=\"_parent\"><img src=\"https://colab.research.google.com/assets/colab-badge.svg\" alt=\"Open In Colab\"/></a>"
      ]
    },
    {
      "cell_type": "code",
      "execution_count": null,
      "metadata": {
        "colab": {
          "base_uri": "https://localhost:8080/"
        },
        "id": "o_esr4og_ITC",
        "outputId": "a2b58d31-2fa9-40e0-89ba-e1f1cc126e90"
      },
      "outputs": [
        {
          "output_type": "stream",
          "name": "stdout",
          "text": [
            "True\n",
            "1.0\n",
            "1.0\n",
            "(1+5j)\n",
            "(2-3j)\n"
          ]
        }
      ],
      "source": [
        "cData1 = 1+1j\n",
        "cData2 = complex(1, 1)\n",
        "print(cData1 == cData2)\n",
        "print(cData1.real)\n",
        "print(cData2.imag)\n",
        "complexData1=1-5j\n",
        "\n",
        "complexData2 = complex(2, 3)\n",
        "print(complexData1.conjugate())\n",
        "print(complexData2.conjugate())"
      ]
    }
  ]
}