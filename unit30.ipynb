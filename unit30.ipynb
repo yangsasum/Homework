{
  "nbformat": 4,
  "nbformat_minor": 0,
  "metadata": {
    "colab": {
      "provenance": [],
      "authorship_tag": "ABX9TyM858Qby+FhU4AayToP7/dp",
      "include_colab_link": true
    },
    "kernelspec": {
      "name": "python3",
      "display_name": "Python 3"
    },
    "language_info": {
      "name": "python"
    }
  },
  "cells": [
    {
      "cell_type": "markdown",
      "metadata": {
        "id": "view-in-github",
        "colab_type": "text"
      },
      "source": [
        "<a href=\"https://colab.research.google.com/github/yangsasum/Homework/blob/main/unit30.ipynb\" target=\"_parent\"><img src=\"https://colab.research.google.com/assets/colab-badge.svg\" alt=\"Open In Colab\"/></a>"
      ]
    },
    {
      "cell_type": "code",
      "execution_count": null,
      "metadata": {
        "colab": {
          "base_uri": "https://localhost:8080/"
        },
        "id": "o_esr4og_ITC",
        "outputId": "5e9762a4-3a3a-4783-d6da-e15ed223bd70"
      },
      "outputs": [
        {
          "output_type": "stream",
          "name": "stdout",
          "text": [
            "42\n",
            "42.0\n",
            "42.2\n",
            "40.0\n"
          ]
        }
      ],
      "source": [
        "ret = round(42.195)\n",
        "print(ret)\n",
        "ret = round(42.195, 0)\n",
        "print(ret)\n",
        "ret = round(42.195, 1)\n",
        "print(ret)\n",
        "ret = round(42.195,-1)\n",
        "print(ret)"
      ]
    }
  ]
}