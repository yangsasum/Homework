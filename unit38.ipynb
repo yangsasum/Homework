{
  "nbformat": 4,
  "nbformat_minor": 0,
  "metadata": {
    "colab": {
      "provenance": [],
      "authorship_tag": "ABX9TyO7BZ+z2Q5f/UKrbiIHRMY3",
      "include_colab_link": true
    },
    "kernelspec": {
      "name": "python3",
      "display_name": "Python 3"
    },
    "language_info": {
      "name": "python"
    }
  },
  "cells": [
    {
      "cell_type": "markdown",
      "metadata": {
        "id": "view-in-github",
        "colab_type": "text"
      },
      "source": [
        "<a href=\"https://colab.research.google.com/github/yangsasum/Homework/blob/main/unit38.ipynb\" target=\"_parent\"><img src=\"https://colab.research.google.com/assets/colab-badge.svg\" alt=\"Open In Colab\"/></a>"
      ]
    },
    {
      "cell_type": "code",
      "source": [
        "def getPrime(x):\n",
        "  if x == 2:\n",
        "    return True\n",
        "  if x <= 1 or x% 2 == 0:\n",
        "    return False\n",
        "  for i in range(3, int(x**(1/2))+1, 2):\n",
        "    if x% i == 0:\n",
        "      return False\n",
        "  else:\n",
        "    return True\n",
        "intList = [x for x in range(1, 101)]\n",
        "ret = filter(getPrime, intList)\n",
        "for p in ret:\n",
        "  print(p, end=' ')"
      ],
      "metadata": {
        "colab": {
          "base_uri": "https://localhost:8080/"
        },
        "id": "Ygpea8UacIcg",
        "outputId": "b7ea8df5-58d5-45c9-b32a-69cbc90044ee"
      },
      "execution_count": null,
      "outputs": [
        {
          "output_type": "stream",
          "name": "stdout",
          "text": [
            "2 3 5 7 11 13 17 19 23 29 31 37 41 43 47 53 59 61 67 71 73 79 83 89 97 "
          ]
        }
      ]
    }
  ]
}