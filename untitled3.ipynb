{
  "nbformat": 4,
  "nbformat_minor": 0,
  "metadata": {
    "colab": {
      "provenance": [],
      "authorship_tag": "ABX9TyNAino5NkvSN+YQM7pyAs/X",
      "include_colab_link": true
    },
    "kernelspec": {
      "name": "python3",
      "display_name": "Python 3"
    },
    "language_info": {
      "name": "python"
    }
  },
  "cells": [
    {
      "cell_type": "markdown",
      "metadata": {
        "id": "view-in-github",
        "colab_type": "text"
      },
      "source": [
        "<a href=\"https://colab.research.google.com/github/yangsasum/Homework/blob/main/untitled3.ipynb\" target=\"_parent\"><img src=\"https://colab.research.google.com/assets/colab-badge.svg\" alt=\"Open In Colab\"/></a>"
      ]
    },
    {
      "cell_type": "code",
      "execution_count": null,
      "metadata": {
        "colab": {
          "base_uri": "https://localhost:8080/"
        },
        "id": "u-7u2WNb9YXV",
        "outputId": "bba51ff9-6209-4465-acb7-d266f7dde3f0"
      },
      "outputs": [
        {
          "output_type": "stream",
          "name": "stdout",
          "text": [
            "안녕 파이썬\n",
            "안녕 파이썬\n",
            "3\n",
            "이름 ; 홍길동 전화번호 : 010-0000-0000\n",
            "######\n",
            "홍길동;010-0000-0000\n"
          ]
        }
      ],
      "source": [
        "print('안녕 파이썬')\n",
        "hello = '안녕 파이썬'\n",
        "print(hello)\n",
        "intData1 = 1\n",
        "intData2 = 2\n",
        "print(intData1 + intData2)\n",
        "name = '홍길동'\n",
        "phone = '010-0000-0000'\n",
        "print('이름 ;', name, '전화번호 :', phone)\n",
        "print('#',end='')\n",
        "print('#'*5)\n",
        "print(name, phone, sep=';')"
      ]
    }
  ]
}