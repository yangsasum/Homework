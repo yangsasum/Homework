{
  "nbformat": 4,
  "nbformat_minor": 0,
  "metadata": {
    "colab": {
      "provenance": [],
      "authorship_tag": "ABX9TyM8UQNqO7xblomSZ3f9UoDl",
      "include_colab_link": true
    },
    "kernelspec": {
      "name": "python3",
      "display_name": "Python 3"
    },
    "language_info": {
      "name": "python"
    }
  },
  "cells": [
    {
      "cell_type": "markdown",
      "metadata": {
        "id": "view-in-github",
        "colab_type": "text"
      },
      "source": [
        "<a href=\"https://colab.research.google.com/github/yangsasum/Homework/blob/main/untitled3.ipynb\" target=\"_parent\"><img src=\"https://colab.research.google.com/assets/colab-badge.svg\" alt=\"Open In Colab\"/></a>"
      ]
    },
    {
      "cell_type": "code",
      "execution_count": null,
      "metadata": {
        "colab": {
          "base_uri": "https://localhost:8080/"
        },
        "id": "u-7u2WNb9YXV",
        "outputId": "de8eb89a-05bc-4d63-b304-e1ecbf3de7c0"
      },
      "outputs": [
        {
          "output_type": "stream",
          "name": "stdout",
          "text": [
            "{'name': <class 'str'>, 'age': <class 'int'>, 'weight': <class 'float'>, 'is_badman': <class 'bool'>, 'booklist': list[str], 'island': tuple[str, float, float], 'top4_familyname': dict[str, int], 'fruits': set[str]}\n",
            "{1, 2, 3, 4, 5}\n"
          ]
        }
      ],
      "source": [
        "name = '홍길동'\n",
        "age = 17\n",
        "weight = 70.7\n",
        "is_badman = False\n",
        "name: str = '홍길동'\n",
        "age: int = 17\n",
        "weight: float= 70.7\n",
        "is_badman: bool =False\n",
        "booklist: list[str]=['삼국지','수호지','초한지']\n",
        "island: tuple[str, float, float]=('독도', 131.52, 37.14)\n",
        "top4_familyname:dict[str,int]={'김씨':123456,'나씨':345811,'박씨':963123, '이씨':865909}\n",
        "fruits:set[str]={'사과', '배', '수박', '참외', '딸기'}\n",
        "print(__annotations__)\n",
        "fruits:set[str]={'사과', '배', '수박', '참외', '딸기'}\n",
        "fruits={1, 2, 3, 4, 5}\n",
        "print(fruits)"
      ]
    }
  ]
}