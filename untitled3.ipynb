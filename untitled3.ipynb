{
  "nbformat": 4,
  "nbformat_minor": 0,
  "metadata": {
    "colab": {
      "provenance": [],
      "authorship_tag": "ABX9TyN9KfL2v6FnUy52zHoJGxp1",
      "include_colab_link": true
    },
    "kernelspec": {
      "name": "python3",
      "display_name": "Python 3"
    },
    "language_info": {
      "name": "python"
    }
  },
  "cells": [
    {
      "cell_type": "markdown",
      "metadata": {
        "id": "view-in-github",
        "colab_type": "text"
      },
      "source": [
        "<a href=\"https://colab.research.google.com/github/yangsasum/Homework/blob/main/untitled3.ipynb\" target=\"_parent\"><img src=\"https://colab.research.google.com/assets/colab-badge.svg\" alt=\"Open In Colab\"/></a>"
      ]
    },
    {
      "cell_type": "code",
      "execution_count": null,
      "metadata": {
        "colab": {
          "base_uri": "https://localhost:8080/"
        },
        "id": "u-7u2WNb9YXV",
        "outputId": "0a787e05-972e-4c3f-d927-749c1d69f89f"
      },
      "outputs": [
        {
          "output_type": "stream",
          "name": "stdout",
          "text": [
            "5\n",
            "사용자가 입력한 값은 <5>입니다.\n",
            "값을 입력하세요:5\n",
            "사용자가 입력한 값은 <5> 입니다\n"
          ]
        }
      ],
      "source": [
        "userInput = input()\n",
        "print ('사용자가 입력한 값은 <'+ userInput+'>입니다.')\n",
        "userInput = input('값을 입력하세요:')\n",
        "print ('사용자가 입력한 값은 <'+userInput+'> 입니다')"
      ]
    }
  ]
}