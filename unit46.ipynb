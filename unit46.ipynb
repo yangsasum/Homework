{
  "nbformat": 4,
  "nbformat_minor": 0,
  "metadata": {
    "colab": {
      "provenance": [],
      "authorship_tag": "ABX9TyOYU/dbn8wKU1PZ+lu7nZSd",
      "include_colab_link": true
    },
    "kernelspec": {
      "name": "python3",
      "display_name": "Python 3"
    },
    "language_info": {
      "name": "python"
    }
  },
  "cells": [
    {
      "cell_type": "markdown",
      "metadata": {
        "id": "view-in-github",
        "colab_type": "text"
      },
      "source": [
        "<a href=\"https://colab.research.google.com/github/yangsasum/Homework/blob/main/unit46.ipynb\" target=\"_parent\"><img src=\"https://colab.research.google.com/assets/colab-badge.svg\" alt=\"Open In Colab\"/></a>"
      ]
    },
    {
      "cell_type": "code",
      "execution_count": null,
      "metadata": {
        "colab": {
          "base_uri": "https://localhost:8080/"
        },
        "id": "oLc0bOx0naFI",
        "outputId": "e9af8551-eeeb-4360-a9c6-18cd3d161155"
      },
      "outputs": [
        {
          "output_type": "stream",
          "name": "stdout",
          "text": [
            "[0, 1, 2, 3, 4, 5, 6, 7, 8, 9]\n",
            "[10, 11, 12, 13, 14, 15, 16, 17, 18, 19]\n",
            "[1, 4, 7, 10, 13, 16, 19]\n",
            "[1, 3, 5, 7, 9]\n"
          ]
        }
      ],
      "source": [
        "intList = range(10)\n",
        "print(list(intList))\n",
        "intList = range(10, 20)\n",
        "print(list(intList))\n",
        "intList = range(1, 20, 3)\n",
        "print(list(intList))\n",
        "intList = [x for x in range(1, 10, 2)]\n",
        "print(intList)"
      ]
    }
  ]
}