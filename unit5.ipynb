{
  "nbformat": 4,
  "nbformat_minor": 0,
  "metadata": {
    "colab": {
      "provenance": [],
      "authorship_tag": "ABX9TyMLSTQE3WqTZjyQAT6wT7yT",
      "include_colab_link": true
    },
    "kernelspec": {
      "name": "python3",
      "display_name": "Python 3"
    },
    "language_info": {
      "name": "python"
    }
  },
  "cells": [
    {
      "cell_type": "markdown",
      "metadata": {
        "id": "view-in-github",
        "colab_type": "text"
      },
      "source": [
        "<a href=\"https://colab.research.google.com/github/yangsasum/Homework/blob/main/Untitled2.ipynb\" target=\"_parent\"><img src=\"https://colab.research.google.com/assets/colab-badge.svg\" alt=\"Open In Colab\"/></a>"
      ]
    },
    {
      "cell_type": "code",
      "execution_count": 5,
      "metadata": {
        "colab": {
          "base_uri": "https://localhost:8080/"
        },
        "id": "G-sI5nAGMHQK",
        "outputId": "5ffd82a8-d183-4033-e305-48efd0b8d850"
      },
      "outputs": [
        {
          "output_type": "stream",
          "name": "stdout",
          "text": [
            "11\n",
            "Result =  55\n"
          ]
        }
      ],
      "source": [
        "###주석처리 예시\n",
        "###만든 날짜 : 2025-09-09\n",
        "\n",
        "a = 1\n",
        "b = 10\n",
        "print(a+b)\n",
        "\n",
        "\n",
        "comment = 'Result = '\n",
        "#삼중 따옴표로 특정 영역 주석 처리 예시\n",
        "\"\"\"a=1\n",
        "b=100\n",
        "print(a+b)\"\"\"\n",
        "a=5\n",
        "b=50\n",
        "print(comment, a+b)"
      ]
    }
  ]
}
