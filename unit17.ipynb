{
  "nbformat": 4,
  "nbformat_minor": 0,
  "metadata": {
    "colab": {
      "provenance": [],
      "authorship_tag": "ABX9TyPUdjDRUNx0NdPP6TEQX8o3",
      "include_colab_link": true
    },
    "kernelspec": {
      "name": "python3",
      "display_name": "Python 3"
    },
    "language_info": {
      "name": "python"
    }
  },
  "cells": [
    {
      "cell_type": "markdown",
      "metadata": {
        "id": "view-in-github",
        "colab_type": "text"
      },
      "source": [
        "<a href=\"https://colab.research.google.com/github/yangsasum/Homework/blob/main/unit17.ipynb\" target=\"_parent\"><img src=\"https://colab.research.google.com/assets/colab-badge.svg\" alt=\"Open In Colab\"/></a>"
      ]
    },
    {
      "cell_type": "code",
      "execution_count": null,
      "metadata": {
        "colab": {
          "base_uri": "https://localhost:8080/"
        },
        "id": "u-7u2WNb9YXV",
        "outputId": "e1567b4c-0907-42ba-a934-3ff03b2bb3d1"
      },
      "outputs": [
        {
          "output_type": "stream",
          "name": "stdout",
          "text": [
            "1\n",
            "2\n",
            "3\n",
            "Perfect!\n",
            "1\n",
            "2\n"
          ]
        }
      ],
      "source": [
        "for x in [1, 2, 3]:\n",
        "    print(x)\n",
        "else:\n",
        "    print('Perfect!')\n",
        "for x in [1, 2, 3]:\n",
        "    print(x)\n",
        "    if x > 1:\n",
        "        break\n",
        "else:\n",
        "    print('Perfect!')"
      ]
    }
  ]
}