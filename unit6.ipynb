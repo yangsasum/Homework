{
  "nbformat": 4,
  "nbformat_minor": 0,
  "metadata": {
    "colab": {
      "provenance": [],
      "authorship_tag": "ABX9TyOOaR2r6a2+NeLHoJqXwSII",
      "include_colab_link": true
    },
    "kernelspec": {
      "name": "python3",
      "display_name": "Python 3"
    },
    "language_info": {
      "name": "python"
    }
  },
  "cells": [
    {
      "cell_type": "markdown",
      "metadata": {
        "id": "view-in-github",
        "colab_type": "text"
      },
      "source": [
        "<a href=\"https://colab.research.google.com/github/yangsasum/Homework/blob/main/untitled3.ipynb\" target=\"_parent\"><img src=\"https://colab.research.google.com/assets/colab-badge.svg\" alt=\"Open In Colab\"/></a>"
      ]
    },
    {
      "cell_type": "code",
      "execution_count": null,
      "metadata": {
        "id": "u-7u2WNb9YXV"
      },
      "outputs": [],
      "source": [
        "intData = 15 #정수\n",
        "floatData = 2.5 #실수\n",
        "complexData = 1+1j #복소수\n",
        "\n",
        "isTrue = True\n",
        "isFalse = False\n",
        "\n",
        "setData = {1, 2, 3, 4, 5}\n",
        "\n",
        "dictData = {0:False, 1:True}"
      ]
    }
  ]
}
