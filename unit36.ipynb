{
  "nbformat": 4,
  "nbformat_minor": 0,
  "metadata": {
    "colab": {
      "provenance": [],
      "authorship_tag": "ABX9TyNQdu0Z5ThIysNwrs85tZbu",
      "include_colab_link": true
    },
    "kernelspec": {
      "name": "python3",
      "display_name": "Python 3"
    },
    "language_info": {
      "name": "python"
    }
  },
  "cells": [
    {
      "cell_type": "markdown",
      "metadata": {
        "id": "view-in-github",
        "colab_type": "text"
      },
      "source": [
        "<a href=\"https://colab.research.google.com/github/yangsasum/Homework/blob/main/unit36.ipynb\" target=\"_parent\"><img src=\"https://colab.research.google.com/assets/colab-badge.svg\" alt=\"Open In Colab\"/></a>"
      ]
    },
    {
      "cell_type": "code",
      "execution_count": null,
      "metadata": {
        "colab": {
          "base_uri": "https://localhost:8080/"
        },
        "id": "o_esr4og_ITC",
        "outputId": "5951b6bc-1d70-4f74-9cde-ed5034bf3f7b"
      },
      "outputs": [
        {
          "output_type": "stream",
          "name": "stdout",
          "text": [
            "0 1 2 3 4 "
          ]
        }
      ],
      "source": [
        "class MyRange:\n",
        "  def __init__(self, n):\n",
        "    self.maxn=n\n",
        "    self.current = 0\n",
        "  def __iter__(self):\n",
        "    return self\n",
        "\n",
        "  def __next__(self):\n",
        "    if self.current >= self.maxn:\n",
        "      raise StopIteration\n",
        "    else:\n",
        "      ret = self.current\n",
        "      self.current += 1\n",
        "      return ret\n",
        "\n",
        "intList = MyRange (5)\n",
        "for i in intList:\n",
        "  print(i, end=' ')"
      ]
    }
  ]
}