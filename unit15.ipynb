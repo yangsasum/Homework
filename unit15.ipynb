{
  "nbformat": 4,
  "nbformat_minor": 0,
  "metadata": {
    "colab": {
      "provenance": [],
      "authorship_tag": "ABX9TyOXdy6qnWoH3pSnwml9eFsH",
      "include_colab_link": true
    },
    "kernelspec": {
      "name": "python3",
      "display_name": "Python 3"
    },
    "language_info": {
      "name": "python"
    }
  },
  "cells": [
    {
      "cell_type": "markdown",
      "metadata": {
        "id": "view-in-github",
        "colab_type": "text"
      },
      "source": [
        "<a href=\"https://colab.research.google.com/github/yangsasum/Homework/blob/main/untitled3.ipynb\" target=\"_parent\"><img src=\"https://colab.research.google.com/assets/colab-badge.svg\" alt=\"Open In Colab\"/></a>"
      ]
    },
    {
      "cell_type": "code",
      "execution_count": null,
      "metadata": {
        "colab": {
          "base_uri": "https://localhost:8080/"
        },
        "id": "u-7u2WNb9YXV",
        "outputId": "59ea359e-a75c-41f7-a10f-14d56902b114"
      },
      "outputs": [
        {
          "output_type": "stream",
          "name": "stdout",
          "text": [
            "x가 y보다 작습니다.\n",
            "x가 y보다 작습니다.\n"
          ]
        }
      ],
      "source": [
        "x = 1\n",
        "y = 2\n",
        "if x < y:\n",
        "    print('x가 y보다 작습니다.')\n",
        "else:\n",
        "    print('x가 y보다 작지 않습니다.')\n",
        "\n",
        "x = 1\n",
        "y = 2\n",
        "if x < y:\n",
        "    print('x가 y보다 작습니다.')\n",
        "elif x > y:\n",
        "    print('x가 y보다 큽니다.')\n",
        "else:\n",
        "    print('x와 y가 같습니다.')"
      ]
    }
  ]
}
