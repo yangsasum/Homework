{
  "nbformat": 4,
  "nbformat_minor": 0,
  "metadata": {
    "colab": {
      "provenance": [],
      "authorship_tag": "ABX9TyMuaEkb6BZN/vI+OzQLLyTf",
      "include_colab_link": true
    },
    "kernelspec": {
      "name": "python3",
      "display_name": "Python 3"
    },
    "language_info": {
      "name": "python"
    }
  },
  "cells": [
    {
      "cell_type": "markdown",
      "metadata": {
        "id": "view-in-github",
        "colab_type": "text"
      },
      "source": [
        "<a href=\"https://colab.research.google.com/github/yangsasum/Homework/blob/main/unit18.ipynb\" target=\"_parent\"><img src=\"https://colab.research.google.com/assets/colab-badge.svg\" alt=\"Open In Colab\"/></a>"
      ]
    },
    {
      "cell_type": "code",
      "execution_count": null,
      "metadata": {
        "colab": {
          "base_uri": "https://localhost:8080/"
        },
        "id": "u-7u2WNb9YXV",
        "outputId": "4d915f3c-9d27-4910-b7a0-5db111d93710"
      },
      "outputs": [
        {
          "output_type": "stream",
          "name": "stdout",
          "text": [
            "3\n",
            "4\n",
            "5\n",
            "1+2+...+n 값이 10만보다 커지게 되는 n: 447\n",
            "이때 총합은 100128\n"
          ]
        }
      ],
      "source": [
        "x = 0\n",
        "while x < 10:\n",
        "    x = x + 1\n",
        "    if x < 3:\n",
        "        continue\n",
        "    print(x)\n",
        "    if x > 4:\n",
        "        break\n",
        "n = 1\n",
        "total = 0\n",
        "while True:\n",
        "    total = total + n\n",
        "    if total > 100000:\n",
        "        print('1+2+...+n 값이 10만보다 커지게 되는 n:', n)\n",
        "        print('이때 총합은', total)\n",
        "        break\n",
        "    n = n + 1"
      ]
    }
  ]
}